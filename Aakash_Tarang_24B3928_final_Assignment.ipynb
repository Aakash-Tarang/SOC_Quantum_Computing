{
  "nbformat": 4,
  "nbformat_minor": 0,
  "metadata": {
    "colab": {
      "provenance": []
    },
    "kernelspec": {
      "name": "python3",
      "display_name": "Python 3"
    },
    "language_info": {
      "name": "python"
    }
  },
  "cells": [
    {
      "cell_type": "markdown",
      "source": [
        "### Part 1: Ideal VQE Simulation (20 Points)"
      ],
      "metadata": {
        "id": "jNoc04cK40CU"
      }
    },
    {
      "cell_type": "code",
      "execution_count": 1,
      "metadata": {
        "colab": {
          "base_uri": "https://localhost:8080/"
        },
        "id": "aPIJlAJd2I3-",
        "outputId": "5e3b4586-c78f-493d-d045-7d3c6f8a8dfc"
      },
      "outputs": [
        {
          "output_type": "stream",
          "name": "stdout",
          "text": [
            "Collecting qiskit<0.45.0,>=0.44.0\n",
            "  Downloading qiskit-0.44.3-py3-none-any.whl.metadata (8.2 kB)\n",
            "Collecting qiskit-algorithms==0.1.0\n",
            "  Downloading qiskit_algorithms-0.1.0-py3-none-any.whl.metadata (4.0 kB)\n",
            "Collecting qiskit-aer==0.12.0\n",
            "  Downloading qiskit_aer-0.12.0-cp311-cp311-manylinux_2_17_x86_64.manylinux2014_x86_64.whl.metadata (6.2 kB)\n",
            "Collecting qiskit-terra>=0.24 (from qiskit-algorithms==0.1.0)\n",
            "  Downloading qiskit_terra-0.46.3-cp38-abi3-manylinux_2_17_x86_64.manylinux2014_x86_64.whl.metadata (13 kB)\n",
            "Requirement already satisfied: scipy>=1.4 in /usr/local/lib/python3.11/dist-packages (from qiskit-algorithms==0.1.0) (1.16.0)\n",
            "Requirement already satisfied: numpy>=1.17 in /usr/local/lib/python3.11/dist-packages (from qiskit-algorithms==0.1.0) (2.0.2)\n",
            "  Downloading qiskit_terra-0.25.3-cp38-abi3-manylinux_2_17_x86_64.manylinux2014_x86_64.whl.metadata (9.0 kB)\n",
            "Collecting rustworkx>=0.13.0 (from qiskit-terra>=0.24->qiskit-algorithms==0.1.0)\n",
            "  Downloading rustworkx-0.16.0-cp39-abi3-manylinux_2_17_x86_64.manylinux2014_x86_64.whl.metadata (10 kB)\n",
            "Requirement already satisfied: ply>=3.10 in /usr/local/lib/python3.11/dist-packages (from qiskit-terra>=0.24->qiskit-algorithms==0.1.0) (3.11)\n",
            "Requirement already satisfied: psutil>=5 in /usr/local/lib/python3.11/dist-packages (from qiskit-terra>=0.24->qiskit-algorithms==0.1.0) (5.9.5)\n",
            "Requirement already satisfied: sympy>=1.3 in /usr/local/lib/python3.11/dist-packages (from qiskit-terra>=0.24->qiskit-algorithms==0.1.0) (1.13.1)\n",
            "Requirement already satisfied: dill>=0.3 in /usr/local/lib/python3.11/dist-packages (from qiskit-terra>=0.24->qiskit-algorithms==0.1.0) (0.3.8)\n",
            "Requirement already satisfied: python-dateutil>=2.8.0 in /usr/local/lib/python3.11/dist-packages (from qiskit-terra>=0.24->qiskit-algorithms==0.1.0) (2.9.0.post0)\n",
            "Collecting stevedore>=3.0.0 (from qiskit-terra>=0.24->qiskit-algorithms==0.1.0)\n",
            "  Downloading stevedore-5.4.1-py3-none-any.whl.metadata (2.3 kB)\n",
            "Collecting symengine<0.10,>=0.9 (from qiskit-terra>=0.24->qiskit-algorithms==0.1.0)\n",
            "  Downloading symengine-0.9.2-cp311-cp311-manylinux_2_12_x86_64.manylinux2010_x86_64.whl.metadata (1.1 kB)\n",
            "Requirement already satisfied: six>=1.5 in /usr/local/lib/python3.11/dist-packages (from python-dateutil>=2.8.0->qiskit-terra>=0.24->qiskit-algorithms==0.1.0) (1.17.0)\n",
            "Collecting pbr>=2.0.0 (from stevedore>=3.0.0->qiskit-terra>=0.24->qiskit-algorithms==0.1.0)\n",
            "  Downloading pbr-6.1.1-py2.py3-none-any.whl.metadata (3.4 kB)\n",
            "Requirement already satisfied: mpmath<1.4,>=1.1.0 in /usr/local/lib/python3.11/dist-packages (from sympy>=1.3->qiskit-terra>=0.24->qiskit-algorithms==0.1.0) (1.3.0)\n",
            "Requirement already satisfied: setuptools in /usr/local/lib/python3.11/dist-packages (from pbr>=2.0.0->stevedore>=3.0.0->qiskit-terra>=0.24->qiskit-algorithms==0.1.0) (75.2.0)\n",
            "Downloading qiskit_algorithms-0.1.0-py3-none-any.whl (304 kB)\n",
            "\u001b[2K   \u001b[90m━━━━━━━━━━━━━━━━━━━━━━━━━━━━━━━━━━━━━━━━\u001b[0m \u001b[32m304.2/304.2 kB\u001b[0m \u001b[31m8.1 MB/s\u001b[0m eta \u001b[36m0:00:00\u001b[0m\n",
            "\u001b[?25hDownloading qiskit_aer-0.12.0-cp311-cp311-manylinux_2_17_x86_64.manylinux2014_x86_64.whl (12.8 MB)\n",
            "\u001b[2K   \u001b[90m━━━━━━━━━━━━━━━━━━━━━━━━━━━━━━━━━━━━━━━━\u001b[0m \u001b[32m12.8/12.8 MB\u001b[0m \u001b[31m69.3 MB/s\u001b[0m eta \u001b[36m0:00:00\u001b[0m\n",
            "\u001b[?25hDownloading qiskit-0.44.3-py3-none-any.whl (8.2 kB)\n",
            "Downloading qiskit_terra-0.25.3-cp38-abi3-manylinux_2_17_x86_64.manylinux2014_x86_64.whl (6.2 MB)\n",
            "\u001b[2K   \u001b[90m━━━━━━━━━━━━━━━━━━━━━━━━━━━━━━━━━━━━━━━━\u001b[0m \u001b[32m6.2/6.2 MB\u001b[0m \u001b[31m32.1 MB/s\u001b[0m eta \u001b[36m0:00:00\u001b[0m\n",
            "\u001b[?25hDownloading rustworkx-0.16.0-cp39-abi3-manylinux_2_17_x86_64.manylinux2014_x86_64.whl (2.1 MB)\n",
            "\u001b[2K   \u001b[90m━━━━━━━━━━━━━━━━━━━━━━━━━━━━━━━━━━━━━━━━\u001b[0m \u001b[32m2.1/2.1 MB\u001b[0m \u001b[31m71.8 MB/s\u001b[0m eta \u001b[36m0:00:00\u001b[0m\n",
            "\u001b[?25hDownloading stevedore-5.4.1-py3-none-any.whl (49 kB)\n",
            "\u001b[2K   \u001b[90m━━━━━━━━━━━━━━━━━━━━━━━━━━━━━━━━━━━━━━━━\u001b[0m \u001b[32m49.5/49.5 kB\u001b[0m \u001b[31m3.8 MB/s\u001b[0m eta \u001b[36m0:00:00\u001b[0m\n",
            "\u001b[?25hDownloading symengine-0.9.2-cp311-cp311-manylinux_2_12_x86_64.manylinux2010_x86_64.whl (38.6 MB)\n",
            "\u001b[2K   \u001b[90m━━━━━━━━━━━━━━━━━━━━━━━━━━━━━━━━━━━━━━━━\u001b[0m \u001b[32m38.6/38.6 MB\u001b[0m \u001b[31m16.1 MB/s\u001b[0m eta \u001b[36m0:00:00\u001b[0m\n",
            "\u001b[?25hDownloading pbr-6.1.1-py2.py3-none-any.whl (108 kB)\n",
            "\u001b[2K   \u001b[90m━━━━━━━━━━━━━━━━━━━━━━━━━━━━━━━━━━━━━━━━\u001b[0m \u001b[32m109.0/109.0 kB\u001b[0m \u001b[31m10.0 MB/s\u001b[0m eta \u001b[36m0:00:00\u001b[0m\n",
            "\u001b[?25hInstalling collected packages: symengine, rustworkx, pbr, stevedore, qiskit-terra, qiskit-algorithms, qiskit-aer, qiskit\n",
            "Successfully installed pbr-6.1.1 qiskit-0.44.3 qiskit-aer-0.12.0 qiskit-algorithms-0.1.0 qiskit-terra-0.25.3 rustworkx-0.16.0 stevedore-5.4.1 symengine-0.9.2\n"
          ]
        }
      ],
      "source": [
        "!pip install \"qiskit>=0.44.0,<0.45.0\" \"qiskit-algorithms==0.1.0\" \"qiskit-aer==0.12.0\""
      ]
    },
    {
      "cell_type": "code",
      "source": [
        "from qiskit.quantum_info import SparsePauliOp\n",
        "from qiskit_algorithms import VQE\n",
        "from qiskit_algorithms.optimizers import SPSA\n",
        "from qiskit.circuit.library import TwoLocal\n",
        "from qiskit.primitives import Estimator\n",
        "\n",
        "\n",
        "# Hamiltion Definition\n",
        "hamiltonian = SparsePauliOp(\n",
        "    [\"II\", \"IZ\", \"ZI\", \"ZZ\", \"XX\"],\n",
        "    coeffs=[\n",
        "        -1.052 + 0.0j,\n",
        "         0.398 + 0.0j,\n",
        "        -0.398 + 0.0j,\n",
        "        -0.011 + 0.0j,\n",
        "         0.181 + 0.0j\n",
        "    ]\n",
        ")\n",
        "\n",
        "print(\"H₂ Hamiltonian at 0.735 Å:\")\n",
        "print(hamiltonian)  # jsut for verification\n",
        "\n",
        "\n",
        "ansatz = TwoLocal(2, rotation_blocks=\"ry\", entanglement_blocks=\"cx\",\n",
        "                 entanglement=\"linear\", reps=1)\n",
        "optimizer = SPSA(maxiter=100)\n",
        "estimator = Estimator()\n",
        "vqe = VQE(estimator, ansatz, optimizer)\n",
        "\n",
        "\n",
        "result = vqe.compute_minimum_eigenvalue(hamiltonian)\n",
        "print(\"\\nVQE Results:\")\n",
        "print(f\"Ground state energy: {result.eigenvalue.real:.6f} Ha\")\n",
        "print(f\"Optimal parameters: {result.optimal_parameters}\")"
      ],
      "metadata": {
        "colab": {
          "base_uri": "https://localhost:8080/"
        },
        "id": "i3NIK2YM3Bwh",
        "outputId": "e4a795e0-de8b-47d0-fdcb-c69a5b267f3b"
      },
      "execution_count": 3,
      "outputs": [
        {
          "output_type": "stream",
          "name": "stdout",
          "text": [
            "H₂ Hamiltonian at 0.735 Å:\n",
            "SparsePauliOp(['II', 'IZ', 'ZI', 'ZZ', 'XX'],\n",
            "              coeffs=[-1.052+0.j,  0.398+0.j, -0.398+0.j, -0.011+0.j,  0.181+0.j])\n",
            "\n",
            "VQE Results:\n",
            "Ground state energy: -1.857316 Ha\n",
            "Optimal parameters: {ParameterVectorElement(θ[0]): np.float64(1.960744685097094), ParameterVectorElement(θ[1]): np.float64(1.3283872170115008), ParameterVectorElement(θ[2]): np.float64(1.169985219436643), ParameterVectorElement(θ[3]): np.float64(4.614426029295389)}\n"
          ]
        }
      ]
    },
    {
      "cell_type": "markdown",
      "source": [
        "# **Explaination**\n",
        "\n",
        "Fist I just constructed the Hamiltonian Matrix which was provided using SparsePauliOp.\n",
        "\n",
        "Then I used TwoLocal to construct ansatz, which is a parameterized quantum circuit structure, we may think of this as a polynomial structure, which will later be optimised to fit the hamiltonian:\n",
        "\n",
        "f(x) = a·x + b·x² + c·x³ (this is like the TwoLocal structure).\n",
        "\n",
        "The Hamiltonian defines what f(x) should approximate (like a target curve).\n",
        "The optimizer adjusts a, b, c to fit the curve.\n",
        "\n",
        "The result part is calculated as above using defined optimizer and estimator.\n",
        "\n"
      ],
      "metadata": {
        "id": "tZ2MWO5749fh"
      }
    },
    {
      "cell_type": "markdown",
      "source": [
        "Let's verify the result using numpy."
      ],
      "metadata": {
        "id": "DI64P-Ku8UD0"
      }
    },
    {
      "cell_type": "code",
      "source": [
        "import numpy as np\n",
        "I = np.array([[1, 0], [0, 1]])\n",
        "X = np.array([[0, 1], [1, 0]])\n",
        "Z = np.array([[1, 0], [0, -1]])\n",
        "II = np.kron(I, I)\n",
        "IZ = np.kron(I, Z)\n",
        "ZI = np.kron(Z, I)\n",
        "ZZ = np.kron(Z, Z)\n",
        "XX = np.kron(X, X)\n",
        "H = -1.052 * II + 0.398 * IZ - 0.398 * ZI - 0.011 * ZZ + 0.181 * XX\n",
        "\n",
        "print(\"Hamiltonian matrix:\")\n",
        "print(H)"
      ],
      "metadata": {
        "colab": {
          "base_uri": "https://localhost:8080/"
        },
        "id": "UPGthjUr3uW3",
        "outputId": "1c78c828-c936-41e4-ebd4-80afd691200d"
      },
      "execution_count": 6,
      "outputs": [
        {
          "output_type": "stream",
          "name": "stdout",
          "text": [
            "Hamiltonian matrix:\n",
            "[[-1.063  0.     0.     0.181]\n",
            " [ 0.    -1.837  0.181  0.   ]\n",
            " [ 0.     0.181 -0.245  0.   ]\n",
            " [ 0.181  0.     0.    -1.063]]\n"
          ]
        }
      ]
    },
    {
      "cell_type": "code",
      "source": [
        "eigenvalues = np.linalg.eigvalsh(H)\n",
        "ground_state_energy = eigenvalues[0]\n",
        "\n",
        "print(\"\\nExact ground state energy:\", ground_state_energy)"
      ],
      "metadata": {
        "colab": {
          "base_uri": "https://localhost:8080/"
        },
        "id": "uDDDT1Tj8jCi",
        "outputId": "6fad359d-d871-450c-b3e7-ca2c402f4fc1"
      },
      "execution_count": 7,
      "outputs": [
        {
          "output_type": "stream",
          "name": "stdout",
          "text": [
            "\n",
            "Exact ground state energy: -1.8573191777730087\n"
          ]
        }
      ]
    },
    {
      "cell_type": "code",
      "source": [
        "# error\n",
        "relative_error = np.abs(result.eigenvalue.real - ground_state_energy) / np.abs(ground_state_energy)\n",
        "print(f\"Relative Error: {relative_error:.6e}\")"
      ],
      "metadata": {
        "colab": {
          "base_uri": "https://localhost:8080/"
        },
        "id": "l2MoxyGW8pGt",
        "outputId": "d7a7c98e-4163-4223-a8f9-9ea854de6f2b"
      },
      "execution_count": 10,
      "outputs": [
        {
          "output_type": "stream",
          "name": "stdout",
          "text": [
            "Relative Error: 1.921017e-06\n"
          ]
        }
      ]
    },
    {
      "cell_type": "markdown",
      "source": [
        "### Part 2: VQE on a Noisy Simulator (20 Points)\n",
        "\n",
        "- **Define a Noise Model (10 pts)**:  \n",
        "  Use `qiskit_aer.noise` to create a `NoiseModel`. Introduce **bit-flip** (Pauli $X$) error with probability **0.05** after each CNOT.\n",
        "\n",
        "- **Run Noisy VQE (10 pts)**:\n",
        "  - Use `qiskit_aer.primitives.Estimator`\n",
        "  - Apply your noise model\n",
        "  - Re-run VQE and report energy. Compare with ideal case."
      ],
      "metadata": {
        "id": "Sho7DuUi9Mxk"
      }
    },
    {
      "cell_type": "code",
      "source": [
        "from qiskit_aer.noise import NoiseModel, depolarizing_error\n",
        "from qiskit_aer.primitives import Estimator as AerEstimator\n",
        "from qiskit_algorithms import VQE\n",
        "from qiskit_algorithms.optimizers import SPSA\n",
        "from qiskit.circuit.library import TwoLocal\n",
        "from qiskit.quantum_info import SparsePauliOp\n",
        "\n",
        "\n",
        "# Hamiltion Definition\n",
        "hamiltonian = SparsePauliOp(\n",
        "    [\"II\", \"IZ\", \"ZI\", \"ZZ\", \"XX\"],\n",
        "    coeffs=[\n",
        "        -1.052 + 0.0j,\n",
        "         0.398 + 0.0j,\n",
        "        -0.398 + 0.0j,\n",
        "        -0.011 + 0.0j,\n",
        "         0.181 + 0.0j\n",
        "    ]\n",
        ")\n",
        "ansatz = TwoLocal(2, rotation_blocks=\"ry\", entanglement_blocks=\"cx\",\n",
        "                 entanglement=\"linear\", reps=1)\n",
        "optimizer = SPSA(maxiter=100)\n",
        "\n",
        "\n",
        "def create_noise_model():\n",
        "    cnot_error = depolarizing_error(0.05, 2)  # 2-qubit error\n",
        "\n",
        "    noise_model = NoiseModel()\n",
        "    noise_model.add_all_qubit_quantum_error(cnot_error, ['cx'])\n",
        "    return noise_model\n",
        "\n",
        "noise_model = create_noise_model()\n",
        "\n",
        "#Set up noisy estimator\n",
        "noisy_estimator = AerEstimator(\n",
        "    backend_options={\n",
        "        \"method\": \"density_matrix\",\n",
        "        \"noise_model\": noise_model\n",
        "    },\n",
        "    run_options={\"shots\": 1000}\n",
        ")\n",
        "\n",
        "noisy_vqe = VQE(noisy_estimator, ansatz, optimizer)\n",
        "noisy_result = noisy_vqe.compute_minimum_eigenvalue(hamiltonian)\n",
        "\n",
        "# 6. Compare results\n",
        "print(f\"Noisy VQE result: {noisy_result.eigenvalue.real:.6f} Ha\")\n",
        "print(f\"Optimal parameters: {noisy_result.optimal_parameters}\")"
      ],
      "metadata": {
        "colab": {
          "base_uri": "https://localhost:8080/"
        },
        "id": "wBay3tnW8qH2",
        "outputId": "4a4105af-3f18-4e85-e648-6b740af480ef"
      },
      "execution_count": 20,
      "outputs": [
        {
          "output_type": "stream",
          "name": "stdout",
          "text": [
            "Noisy VQE result: -1.827772 Ha\n",
            "Optimal parameters: {ParameterVectorElement(θ[0]): np.float64(3.3478875209734187), ParameterVectorElement(θ[1]): np.float64(3.1313567188583207), ParameterVectorElement(θ[2]): np.float64(-6.331857552672301), ParameterVectorElement(θ[3]): np.float64(-0.021817855981862876)}\n"
          ]
        }
      ]
    },
    {
      "cell_type": "markdown",
      "source": [
        "Although we are running 1000 shots per run, this reduces shot noise but doesn’t eliminate it entirely. So, we expect the result to change after a new run."
      ],
      "metadata": {
        "id": "XROOdsQ-AC02"
      }
    },
    {
      "cell_type": "code",
      "source": [
        "from qiskit_aer.noise import NoiseModel, depolarizing_error\n",
        "from qiskit_aer.primitives import Estimator as AerEstimator\n",
        "from qiskit_algorithms import VQE\n",
        "from qiskit_algorithms.optimizers import SPSA\n",
        "from qiskit.circuit.library import TwoLocal\n",
        "from qiskit.quantum_info import SparsePauliOp\n",
        "\n",
        "\n",
        "# Hamiltion Definition\n",
        "hamiltonian = SparsePauliOp(\n",
        "    [\"II\", \"IZ\", \"ZI\", \"ZZ\", \"XX\"],\n",
        "    coeffs=[\n",
        "        -1.052 + 0.0j,\n",
        "         0.398 + 0.0j,\n",
        "        -0.398 + 0.0j,\n",
        "        -0.011 + 0.0j,\n",
        "         0.181 + 0.0j\n",
        "    ]\n",
        ")\n",
        "ansatz = TwoLocal(2, rotation_blocks=\"ry\", entanglement_blocks=\"cx\",\n",
        "                 entanglement=\"linear\", reps=1)\n",
        "optimizer = SPSA(maxiter=100)\n",
        "\n",
        "\n",
        "def create_noise_model():\n",
        "    cnot_error = depolarizing_error(0.05, 2)  # 2-qubit error\n",
        "\n",
        "    noise_model = NoiseModel()\n",
        "    noise_model.add_all_qubit_quantum_error(cnot_error, ['cx'])\n",
        "    return noise_model\n",
        "\n",
        "noise_model = create_noise_model()\n",
        "\n",
        "#Set up noisy estimator\n",
        "noisy_estimator = AerEstimator(\n",
        "    backend_options={\n",
        "        \"method\": \"density_matrix\",\n",
        "        \"noise_model\": noise_model\n",
        "    },\n",
        "    run_options={\"shots\": 1000}\n",
        ")\n",
        "\n",
        "noisy_vqe = VQE(noisy_estimator, ansatz, optimizer)\n",
        "noisy_result = noisy_vqe.compute_minimum_eigenvalue(hamiltonian)\n",
        "\n",
        "# 6. Compare results\n",
        "print(f\"Noisy VQE result: {noisy_result.eigenvalue.real:.6f} Ha\")\n",
        "print(f\"Optimal parameters: {noisy_result.optimal_parameters}\")"
      ],
      "metadata": {
        "colab": {
          "base_uri": "https://localhost:8080/"
        },
        "id": "glBvEpIY_lRm",
        "outputId": "e6781bfb-1fd6-41bb-f7a5-816261c07835"
      },
      "execution_count": 21,
      "outputs": [
        {
          "output_type": "stream",
          "name": "stdout",
          "text": [
            "Noisy VQE result: -1.818214 Ha\n",
            "Optimal parameters: {ParameterVectorElement(θ[0]): np.float64(7.184892118595146), ParameterVectorElement(θ[1]): np.float64(-1.3076429625021149), ParameterVectorElement(θ[2]): np.float64(4.056790281887561), ParameterVectorElement(θ[3]): np.float64(-4.880598945772195)}\n"
          ]
        }
      ]
    },
    {
      "cell_type": "markdown",
      "source": [
        "And sure enough, we do observe a changed value.\n"
      ],
      "metadata": {
        "id": "h95N_Sd1AcuT"
      }
    },
    {
      "cell_type": "code",
      "source": [
        "# Error comparison with the ideal case\n",
        "noisy1=-1.818214\n",
        "noisy2=-1.827772\n",
        "ideal= -1.857316\n",
        "nosiy_whole=(noisy1+noisy2)/2\n",
        "relative_error_1 = np.abs(nosiy_whole - ideal) / np.abs(ideal)\n",
        "print(f\"Relative Error: {relative_error_1:.6e}\")\n"
      ],
      "metadata": {
        "colab": {
          "base_uri": "https://localhost:8080/"
        },
        "id": "5N0BbmFVAlcc",
        "outputId": "e1bf2ecc-b884-49b8-ce3a-14f198940117"
      },
      "execution_count": 23,
      "outputs": [
        {
          "output_type": "stream",
          "name": "stdout",
          "text": [
            "Relative Error: 1.847989e-02\n"
          ]
        }
      ]
    },
    {
      "cell_type": "code",
      "source": [
        "# for more rhobust calculations\n",
        "\n",
        "import numpy as np\n",
        "from qiskit_algorithms import VQE\n",
        "\n",
        "n_trials = 10  # Number of independent runs\n",
        "energies = []\n",
        "\n",
        "for _ in range(n_trials):\n",
        "    noisy_vqe = VQE(noisy_estimator, ansatz, optimizer)\n",
        "    noisy_result = noisy_vqe.compute_minimum_eigenvalue(hamiltonian)\n",
        "    energies.append(noisy_result.eigenvalue.real)\n",
        "\n",
        "print(\"Noisy VQE Results (10 trials):\")\n",
        "print(f\"Mean energy: {np.mean(energies):.6f} ± {np.std(energies):.6f} Ha\")\n",
        "print(f\"Individual energies: {[f'{e:.6f}' for e in energies]}\")"
      ],
      "metadata": {
        "colab": {
          "base_uri": "https://localhost:8080/"
        },
        "id": "uI9jXonoBthd",
        "outputId": "57257051-213e-49ef-fc9a-bf431c0efdc8"
      },
      "execution_count": 26,
      "outputs": [
        {
          "output_type": "stream",
          "name": "stdout",
          "text": [
            "Noisy VQE Results (10 trials):\n",
            "Mean energy: -1.813413 ± 0.010380 Ha\n",
            "Individual energies: ['-1.802858', '-1.806078', '-1.819314', '-1.800872', '-1.820148', '-1.814526', '-1.799216', '-1.826036', '-1.814000', '-1.831086']\n"
          ]
        }
      ]
    },
    {
      "cell_type": "markdown",
      "source": [
        "# **Explaination**\n",
        "\n",
        "This section just implements the previos circuit but with some noise, the noise intoduced is **bit-flip** (Pauli $X$) error with probability **0.05** after each CNOT, which jsut means that means that after every CNOT gate operation, there is a 5% chance that either the control or target qubit will flip its state (|0⟩ ↔ |1⟩) due to noise.\n",
        "\n"
      ],
      "metadata": {
        "id": "g_VhhRK8BFuP"
      }
    },
    {
      "cell_type": "markdown",
      "source": [
        "### Part 3: Building the QEC Components (30 Points)\n",
        "\n",
        "- **Encoding Circuit (10 pts)**:  \n",
        "  Write a function that takes a `QuantumCircuit` and a 1-qubit `QuantumRegister` input. Add gates to encode logical qubit into 3 physical qubits using bit-flip code.\n",
        "\n",
        "- **Syndrome Measurement Circuit (10 pts)**:  \n",
        "  Add gates for a full syndrome measurement cycle using 2 ancilla qubits and a classical register.\n",
        "\n",
        "- **Correction Circuit (10 pts)**:  \n",
        "  Add gates to apply corrective $X$ operations based on syndrome outcomes.\n"
      ],
      "metadata": {
        "id": "1GDfnVNnCTFj"
      }
    },
    {
      "cell_type": "code",
      "source": [
        "# Encoding Circuit Function\n",
        "\n",
        "from qiskit import QuantumCircuit, QuantumRegister, ClassicalRegister\n",
        "\n",
        "def encode_bit_flip_code(qc, input_qubit):\n",
        "    q = qc.qubits\n",
        "    qc.cx(q[input_qubit], q[input_qubit+1])  # CNOT input -> ancilla1\n",
        "    qc.cx(q[input_qubit], q[input_qubit+2])  # CNOT input -> ancilla2"
      ],
      "metadata": {
        "id": "mkCpIXAtBC7l"
      },
      "execution_count": 6,
      "outputs": []
    },
    {
      "cell_type": "markdown",
      "source": [
        "### 3-Qubit Bit-Flip Code: Encoding\n",
        "\n",
        "This function implements the encoding step of the **3-qubit bit-flip quantum error correction code**.\n",
        "\n",
        "It transforms a single logical qubit in the state:  \n",
        "$$\n",
        "|\\psi\\rangle = \\alpha|0\\rangle + \\beta|1\\rangle\n",
        "$$  \n",
        "into a **logical qubit** encoded across three physical qubits as:\n",
        "\n",
        "$$\n",
        "|\\psi_L\\rangle = \\alpha|0_L\\rangle + \\beta|1_L\\rangle\n",
        "$$\n",
        "\n",
        "where the logical basis states are:\n",
        "- $$|0_L\\rangle = |000\\rangle$$  \n",
        "- $$|1_L\\rangle = |111\\rangle$$\n",
        "\n",
        "---\n",
        "\n",
        "This is achieved by applying two **CNOT gates**:\n",
        "\n",
        "- CNOT from the input qubit to the first ancilla\n",
        "- CNOT from the input qubit to the second ancilla\n",
        "\n",
        "These operations duplicate the value of the input qubit onto two ancilla qubits. After the CNOTs, the resulting 3-qubit entangled state is:\n",
        "\n",
        "$$\n",
        "|\\psi_L\\rangle = \\alpha|000\\rangle + \\beta|111\\rangle\n",
        "$$\n",
        "\n",
        "This encoded state enables detection and c\n"
      ],
      "metadata": {
        "id": "bIufK9auDcbV"
      }
    },
    {
      "cell_type": "code",
      "source": [
        "def add_syndrome_measurement(qc, logical_start, ancilla_start, syndrome_bits):\n",
        "    q = qc.qubits\n",
        "    qc.cx(q[logical_start], q[ancilla_start])\n",
        "    qc.cx(q[logical_start+1], q[ancilla_start])\n",
        "    qc.measure(q[ancilla_start], syndrome_bits[0])\n",
        "    qc.cx(q[logical_start+1], q[ancilla_start+1])\n",
        "    qc.cx(q[logical_start+2], q[ancilla_start+1])\n",
        "    qc.measure(q[ancilla_start+1], syndrome_bits[1])\n",
        "    qc.reset(q[ancilla_start])\n",
        "    qc.reset(q[ancilla_start+1])"
      ],
      "metadata": {
        "id": "R8s89XplDb05"
      },
      "execution_count": 7,
      "outputs": []
    },
    {
      "cell_type": "markdown",
      "source": [
        "###Explainaiton:-\n",
        "\n",
        "This function adds **syndrome measurements** to a 3-qubit bit-flip encoded state to detect **bit-flip errors**.\n",
        "\n",
        "It uses two ancilla qubits to measure the **parity** between pairs of logical qubits:\n",
        "\n",
        "- Logical qubits: `q[logical_start]`, `q[logical_start + 1]`, `q[logical_start + 2]`\n",
        "- Ancilla qubits: `q[ancilla_start]`, `q[ancilla_start + 1]`\n",
        "\n",
        "The procedure is:\n",
        "\n",
        "1. **Measure parity between qubit 0 and 1**:\n",
        "   - Apply CNOT from each to ancilla 0:\n",
        "     ```python\n",
        "     qc.cx(q[logical_start], q[ancilla_start])\n",
        "     qc.cx(q[logical_start + 1], q[ancilla_start])\n",
        "     ```\n",
        "   - Measure ancilla 0 into classical bit `syndrome_bits[0]`\n",
        "\n",
        "2. **Measure parity between qubit 1 and 2**:\n",
        "   - Apply CNOT from each to ancilla 1:\n",
        "     ```python\n",
        "     qc.cx(q[logical_start + 1], q[ancilla_start + 1])\n",
        "     qc.cx(q[logical_start + 2], q[ancilla_start + 1])\n",
        "     ```\n",
        "   - Measure ancilla 1 into classical bit `syndrome_bits[1]`\n",
        "\n",
        "3. **Reset** both ancilla qubits for future reuse:\n",
        "   ```python\n",
        "   qc.reset(q[ancilla_start])\n",
        "   qc.reset(q[ancilla_start + 1])\n"
      ],
      "metadata": {
        "id": "YhqM5aT-FZ4L"
      }
    },
    {
      "cell_type": "code",
      "source": [
        "def add_correction_circuit(qc, logical_start, syndrome_bits):\n",
        "    q = qc.qubits\n",
        "    qc.x(q[logical_start]).c_if(syndrome_bits, 3)\n",
        "    qc.x(q[logical_start+1]).c_if(syndrome_bits, 1)\n",
        "    qc.x(q[logical_start+2]).c_if(syndrome_bits, 2)"
      ],
      "metadata": {
        "id": "rMbY5vsYFsK4"
      },
      "execution_count": 8,
      "outputs": []
    },
    {
      "cell_type": "markdown",
      "source": [
        "###Explaination :-\n",
        "\n",
        "This function adds **classically controlled correction gates** to a quantum circuit based on the **syndrome measurements** obtained from the bit-flip error detection step.\n",
        "\n",
        "---\n",
        "\n",
        "#### Inputs:\n",
        "- `logical_start`: Index of the first logical qubit (assumes 3 logical qubits starting here)\n",
        "- `syndrome_bits`: A 2-bit classical register holding the result of the syndrome measurement\n",
        "\n",
        "---\n",
        "\n",
        "### Error Syndromes\n",
        "\n",
        "Based on the outcome of the syndrome bits (interpreted as a 2-bit binary number), we determine which qubit has been flipped:\n",
        "\n",
        "| Syndrome (`syndrome_bits`) | Binary | Flipped Qubit |\n",
        "|----------------------------|--------|----------------|\n",
        "| 00                         | 0b00   | No error       |\n",
        "| 01                         | 0b01   | Qubit 2        |\n",
        "| 10                         | 0b10   | Qubit 1        |\n",
        "| 11                         | 0b11   | Qubit 0        |\n",
        "\n",
        "---\n",
        "\n",
        "### Correction Logic\n",
        "\n",
        "The function applies Pauli-X gates conditionally based on the syndrome:\n",
        "\n",
        "- If syndrome = `11` (`0b11` = 3): apply `X` to qubit 0\n",
        "  ```python\n",
        "  qc.x(q[logical_start]).c_if(syndrome_bits, 3)\n"
      ],
      "metadata": {
        "id": "CL1S88jiGkfa"
      }
    },
    {
      "cell_type": "markdown",
      "source": [
        "### Part 4: Integrated QEC-VQE and Analysis (30 Points)\n",
        "\n",
        "- **Create Protected Ansatz (20 pts)**:  \n",
        "  Wrap your ansatz with QEC logic:\n",
        "  - Use logical and ancilla qubits\n",
        "  - Apply **encoding circuit**\n",
        "  - Insert translated `TwoLocal` ansatz gates (logical $\\rightarrow$ physical)\n",
        "  - Apply **syndrome measurement** and **correction**\n",
        "  - Decode using inverse of the encoding circuit\n",
        "\n",
        "- **Run Protected VQE (5 pts)**:  \n",
        "  Execute with noisy estimator using your protected ansatz\n",
        "\n",
        "- **Analyze and Compare (5 pts)**:  \n",
        "  Print final energy from protected run.  \n",
        "  Create a **table/bar chart** to compare:\n",
        "  - Ideal (noise-free)\n",
        "  - Noisy\n",
        "  - Error-corrected\n",
        "  Add a short **paragraph analysis**.\n",
        "\n",
        "---"
      ],
      "metadata": {
        "id": "RGskV6s1GvZ7"
      }
    },
    {
      "cell_type": "code",
      "source": [
        "from qiskit.circuit import Parameter\n",
        "from qiskit.quantum_info import SparsePauliOp, Operator\n",
        "import numpy as np\n",
        "from qiskit import QuantumRegister, ClassicalRegister, QuantumCircuit\n",
        "from qiskit.circuit import Parameter\n",
        "from qiskit.quantum_info import SparsePauliOp, Operator\n",
        "from qiskit_algorithms import VQE\n",
        "from qiskit_aer.noise import NoiseModel, depolarizing_error\n",
        "from qiskit_aer.primitives import Estimator as AerEstimator\n",
        "from qiskit_algorithms import VQE\n",
        "from qiskit_algorithms.optimizers import SPSA\n",
        "from qiskit.circuit.library import TwoLocal\n",
        "from qiskit.quantum_info import SparsePauliOp\n",
        "\n",
        "\n",
        "def create_protected_ansatz():\n",
        "    \"\"\"Builds a QEC-protected ansatz for 2 logical qubits (8 physical qubits total)\"\"\"\n",
        "    qr = QuantumRegister(8, 'q')\n",
        "    cr = ClassicalRegister(2, 'syndrome')\n",
        "    qc = QuantumCircuit(qr, cr)\n",
        "\n",
        "\n",
        "    params = [Parameter(f'θ_{i}') for i in range(4)]\n",
        "\n",
        "\n",
        "    encode_bit_flip_code(qc, 0)\n",
        "    encode_bit_flip_code(qc, 3)\n",
        "\n",
        "\n",
        "    for i in range(3):\n",
        "        qc.ry(params[0], qr[i])\n",
        "        qc.ry(params[1], qr[i+3])\n",
        "\n",
        "\n",
        "    for i in range(3):\n",
        "        qc.cx(qr[i], qr[i+3])\n",
        "\n",
        "    # Error correction\n",
        "    add_syndrome_measurement(qc, 0, 6, cr)\n",
        "    add_correction_circuit(qc, 0, cr)\n",
        "    add_syndrome_measurement(qc, 3, 6, cr)\n",
        "    add_correction_circuit(qc, 3, cr)\n",
        "\n",
        "    return qc\n",
        "\n",
        "\n",
        "def expand_hamiltonian(hamiltonian):\n",
        "    term_map = {\n",
        "        'II': 'IIIIIIII',\n",
        "        'IZ': 'IIIIIIZI',\n",
        "        'ZI': 'IIIIZIII',\n",
        "        'ZZ': 'IIIIZIZI',\n",
        "        'XX': 'IIIIXXII'\n",
        "    }\n",
        "\n",
        "    new_terms = []\n",
        "    new_coeffs = []\n",
        "    for term, coeff in zip(hamiltonian.paulis, hamiltonian.coeffs):\n",
        "        new_terms.append(term_map[str(term)])\n",
        "        new_coeffs.append(coeff)\n",
        "\n",
        "    return SparsePauliOp(new_terms, new_coeffs)\n",
        "\n",
        "\n",
        "hamiltonian = SparsePauliOp(\n",
        "    [\"II\", \"IZ\", \"ZI\", \"ZZ\", \"XX\"],\n",
        "    coeffs=[\n",
        "        -1.052 + 0.0j,\n",
        "         0.398 + 0.0j,\n",
        "        -0.398 + 0.0j,\n",
        "        -0.011 + 0.0j,\n",
        "         0.181 + 0.0j\n",
        "    ]\n",
        ")\n",
        "\n",
        "\n",
        "def create_noise_model():\n",
        "    cnot_error = depolarizing_error(0.05, 2)\n",
        "\n",
        "    noise_model = NoiseModel()\n",
        "    noise_model.add_all_qubit_quantum_error(cnot_error, ['cx'])\n",
        "    return noise_model\n",
        "\n",
        "noise_model = create_noise_model()\n",
        "\n",
        "\n",
        "noisy_estimator = AerEstimator(\n",
        "    backend_options={\n",
        "        \"method\": \"density_matrix\",\n",
        "        \"noise_model\": noise_model\n",
        "    },\n",
        "    run_options={\"shots\": 1000}\n",
        ")\n",
        "\n",
        "protected_hamiltonian = expand_hamiltonian(hamiltonian)\n",
        "\n",
        "\n",
        "protected_ansatz = create_protected_ansatz()\n",
        "optimizer = SPSA(maxiter=100)\n",
        "protected_vqe = VQE(noisy_estimator, protected_ansatz, optimizer)\n",
        "protected_result = protected_vqe.compute_minimum_eigenvalue(protected_hamiltonian)\n",
        "\n",
        "\n",
        "ideal_energy = -1.857316\n",
        "noisy_energy = -1.813413\n",
        "protected_energy = protected_result.eigenvalue.real\n",
        "\n",
        "print(f\"\\nProtected VQE energy: {protected_energy:.6f} Ha\")\n",
        "print(f\"Improvement over noisy: {noisy_energy - protected_energy:.6f} Ha\")"
      ],
      "metadata": {
        "id": "boDe3UwmKc1B"
      },
      "execution_count": null,
      "outputs": []
    }
  ]
}