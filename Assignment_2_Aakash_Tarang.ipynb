{
  "cells": [
    {
      "cell_type": "markdown",
      "metadata": {
        "id": "ROgCfi3npnVq"
      },
      "source": [
        "# **Given**"
      ]
    },
    {
      "cell_type": "code",
      "execution_count": 1,
      "metadata": {
        "id": "cbWWUXeQpqwA"
      },
      "outputs": [],
      "source": [
        "def word_to_binary(word):\n",
        "    binary = ''.join(format(ord(c), '08b') for c in word)\n",
        "    return binary\n",
        "# Remember for each letter in your word it will add 8 more bits so choose a relatively shorter word ~12 letters or less"
      ]
    },
    {
      "cell_type": "code",
      "execution_count": 2,
      "metadata": {
        "id": "Li3l7ToMprge"
      },
      "outputs": [],
      "source": [
        "def binary_to_word(binary_str):\n",
        "    # Pad with zeros if length not multiple of 8\n",
        "    padded = binary_str.ljust((len(binary_str) + 7) // 8 * 8, '0')\n",
        "    return ''.join(chr(int(padded[i:i+8], 2)) for i in range(0, len(padded), 8))"
      ]
    },
    {
      "cell_type": "code",
      "execution_count": 3,
      "metadata": {
        "colab": {
          "base_uri": "https://localhost:8080/"
        },
        "id": "aKMyEletnfEZ",
        "outputId": "5c892fb6-c82c-4cab-f43c-bd8855ee0721"
      },
      "outputs": [
        {
          "name": "stdout",
          "output_type": "stream",
          "text": [
            "Collecting qiskit\n",
            "  Downloading qiskit-2.0.3-cp39-abi3-manylinux_2_17_x86_64.manylinux2014_x86_64.whl.metadata (12 kB)\n",
            "Collecting rustworkx>=0.15.0 (from qiskit)\n",
            "  Downloading rustworkx-0.16.0-cp39-abi3-manylinux_2_17_x86_64.manylinux2014_x86_64.whl.metadata (10 kB)\n",
            "Requirement already satisfied: numpy<3,>=1.17 in /usr/local/lib/python3.11/dist-packages (from qiskit) (2.0.2)\n",
            "Requirement already satisfied: scipy>=1.5 in /usr/local/lib/python3.11/dist-packages (from qiskit) (1.15.3)\n",
            "Requirement already satisfied: sympy>=1.3 in /usr/local/lib/python3.11/dist-packages (from qiskit) (1.13.1)\n",
            "Requirement already satisfied: dill>=0.3 in /usr/local/lib/python3.11/dist-packages (from qiskit) (0.3.7)\n",
            "Requirement already satisfied: python-dateutil>=2.8.0 in /usr/local/lib/python3.11/dist-packages (from qiskit) (2.9.0.post0)\n",
            "Collecting stevedore>=3.0.0 (from qiskit)\n",
            "  Downloading stevedore-5.4.1-py3-none-any.whl.metadata (2.3 kB)\n",
            "Requirement already satisfied: typing-extensions in /usr/local/lib/python3.11/dist-packages (from qiskit) (4.14.0)\n",
            "Collecting symengine<0.14,>=0.11 (from qiskit)\n",
            "  Downloading symengine-0.13.0-cp311-cp311-manylinux_2_17_x86_64.manylinux2014_x86_64.whl.metadata (1.2 kB)\n",
            "Requirement already satisfied: six>=1.5 in /usr/local/lib/python3.11/dist-packages (from python-dateutil>=2.8.0->qiskit) (1.17.0)\n",
            "Collecting pbr>=2.0.0 (from stevedore>=3.0.0->qiskit)\n",
            "  Downloading pbr-6.1.1-py2.py3-none-any.whl.metadata (3.4 kB)\n",
            "Requirement already satisfied: mpmath<1.4,>=1.1.0 in /usr/local/lib/python3.11/dist-packages (from sympy>=1.3->qiskit) (1.3.0)\n",
            "Requirement already satisfied: setuptools in /usr/local/lib/python3.11/dist-packages (from pbr>=2.0.0->stevedore>=3.0.0->qiskit) (75.2.0)\n",
            "Downloading qiskit-2.0.3-cp39-abi3-manylinux_2_17_x86_64.manylinux2014_x86_64.whl (6.5 MB)\n",
            "\u001b[2K   \u001b[90m━━━━━━━━━━━━━━━━━━━━━━━━━━━━━━━━━━━━━━━━\u001b[0m \u001b[32m6.5/6.5 MB\u001b[0m \u001b[31m35.9 MB/s\u001b[0m eta \u001b[36m0:00:00\u001b[0m\n",
            "\u001b[?25hDownloading rustworkx-0.16.0-cp39-abi3-manylinux_2_17_x86_64.manylinux2014_x86_64.whl (2.1 MB)\n",
            "\u001b[2K   \u001b[90m━━━━━━━━━━━━━━━━━━━━━━━━━━━━━━━━━━━━━━━━\u001b[0m \u001b[32m2.1/2.1 MB\u001b[0m \u001b[31m36.8 MB/s\u001b[0m eta \u001b[36m0:00:00\u001b[0m\n",
            "\u001b[?25hDownloading stevedore-5.4.1-py3-none-any.whl (49 kB)\n",
            "\u001b[2K   \u001b[90m━━━━━━━━━━━━━━━━━━━━━━━━━━━━━━━━━━━━━━━━\u001b[0m \u001b[32m49.5/49.5 kB\u001b[0m \u001b[31m2.7 MB/s\u001b[0m eta \u001b[36m0:00:00\u001b[0m\n",
            "\u001b[?25hDownloading symengine-0.13.0-cp311-cp311-manylinux_2_17_x86_64.manylinux2014_x86_64.whl (49.7 MB)\n",
            "\u001b[2K   \u001b[90m━━━━━━━━━━━━━━━━━━━━━━━━━━━━━━━━━━━━━━━━\u001b[0m \u001b[32m49.7/49.7 MB\u001b[0m \u001b[31m8.9 MB/s\u001b[0m eta \u001b[36m0:00:00\u001b[0m\n",
            "\u001b[?25hDownloading pbr-6.1.1-py2.py3-none-any.whl (108 kB)\n",
            "\u001b[2K   \u001b[90m━━━━━━━━━━━━━━━━━━━━━━━━━━━━━━━━━━━━━━━━\u001b[0m \u001b[32m109.0/109.0 kB\u001b[0m \u001b[31m5.1 MB/s\u001b[0m eta \u001b[36m0:00:00\u001b[0m\n",
            "\u001b[?25hInstalling collected packages: symengine, rustworkx, pbr, stevedore, qiskit\n",
            "Successfully installed pbr-6.1.1 qiskit-2.0.3 rustworkx-0.16.0 stevedore-5.4.1 symengine-0.13.0\n"
          ]
        }
      ],
      "source": [
        "!pip install qiskit"
      ]
    },
    {
      "cell_type": "code",
      "execution_count": 4,
      "metadata": {
        "colab": {
          "base_uri": "https://localhost:8080/"
        },
        "id": "yAhsGUtopCGl",
        "outputId": "81825bf5-eefa-4679-afb3-41684e392b2c"
      },
      "outputs": [
        {
          "name": "stdout",
          "output_type": "stream",
          "text": [
            "Requirement already satisfied: qiskit[aer,visualization] in /usr/local/lib/python3.11/dist-packages (2.0.3)\n",
            "\u001b[33mWARNING: qiskit 2.0.3 does not provide the extra 'aer'\u001b[0m\u001b[33m\n",
            "\u001b[0mRequirement already satisfied: rustworkx>=0.15.0 in /usr/local/lib/python3.11/dist-packages (from qiskit[aer,visualization]) (0.16.0)\n",
            "Requirement already satisfied: numpy<3,>=1.17 in /usr/local/lib/python3.11/dist-packages (from qiskit[aer,visualization]) (2.0.2)\n",
            "Requirement already satisfied: scipy>=1.5 in /usr/local/lib/python3.11/dist-packages (from qiskit[aer,visualization]) (1.15.3)\n",
            "Requirement already satisfied: sympy>=1.3 in /usr/local/lib/python3.11/dist-packages (from qiskit[aer,visualization]) (1.13.1)\n",
            "Requirement already satisfied: dill>=0.3 in /usr/local/lib/python3.11/dist-packages (from qiskit[aer,visualization]) (0.3.7)\n",
            "Requirement already satisfied: python-dateutil>=2.8.0 in /usr/local/lib/python3.11/dist-packages (from qiskit[aer,visualization]) (2.9.0.post0)\n",
            "Requirement already satisfied: stevedore>=3.0.0 in /usr/local/lib/python3.11/dist-packages (from qiskit[aer,visualization]) (5.4.1)\n",
            "Requirement already satisfied: typing-extensions in /usr/local/lib/python3.11/dist-packages (from qiskit[aer,visualization]) (4.14.0)\n",
            "Requirement already satisfied: symengine<0.14,>=0.11 in /usr/local/lib/python3.11/dist-packages (from qiskit[aer,visualization]) (0.13.0)\n",
            "Requirement already satisfied: matplotlib>=3.3 in /usr/local/lib/python3.11/dist-packages (from qiskit[aer,visualization]) (3.10.0)\n",
            "Requirement already satisfied: pydot in /usr/local/lib/python3.11/dist-packages (from qiskit[aer,visualization]) (3.0.4)\n",
            "Requirement already satisfied: Pillow>=4.2.1 in /usr/local/lib/python3.11/dist-packages (from qiskit[aer,visualization]) (11.2.1)\n",
            "Collecting pylatexenc>=1.4 (from qiskit[aer,visualization])\n",
            "  Downloading pylatexenc-2.10.tar.gz (162 kB)\n",
            "\u001b[2K     \u001b[90m━━━━━━━━━━━━━━━━━━━━━━━━━━━━━━━━━━━━━━━\u001b[0m \u001b[32m162.6/162.6 kB\u001b[0m \u001b[31m3.1 MB/s\u001b[0m eta \u001b[36m0:00:00\u001b[0m\n",
            "\u001b[?25h  Preparing metadata (setup.py) ... \u001b[?25l\u001b[?25hdone\n",
            "Requirement already satisfied: seaborn>=0.9.0 in /usr/local/lib/python3.11/dist-packages (from qiskit[aer,visualization]) (0.13.2)\n",
            "Requirement already satisfied: contourpy>=1.0.1 in /usr/local/lib/python3.11/dist-packages (from matplotlib>=3.3->qiskit[aer,visualization]) (1.3.2)\n",
            "Requirement already satisfied: cycler>=0.10 in /usr/local/lib/python3.11/dist-packages (from matplotlib>=3.3->qiskit[aer,visualization]) (0.12.1)\n",
            "Requirement already satisfied: fonttools>=4.22.0 in /usr/local/lib/python3.11/dist-packages (from matplotlib>=3.3->qiskit[aer,visualization]) (4.58.2)\n",
            "Requirement already satisfied: kiwisolver>=1.3.1 in /usr/local/lib/python3.11/dist-packages (from matplotlib>=3.3->qiskit[aer,visualization]) (1.4.8)\n",
            "Requirement already satisfied: packaging>=20.0 in /usr/local/lib/python3.11/dist-packages (from matplotlib>=3.3->qiskit[aer,visualization]) (24.2)\n",
            "Requirement already satisfied: pyparsing>=2.3.1 in /usr/local/lib/python3.11/dist-packages (from matplotlib>=3.3->qiskit[aer,visualization]) (3.2.3)\n",
            "Requirement already satisfied: six>=1.5 in /usr/local/lib/python3.11/dist-packages (from python-dateutil>=2.8.0->qiskit[aer,visualization]) (1.17.0)\n",
            "Requirement already satisfied: pandas>=1.2 in /usr/local/lib/python3.11/dist-packages (from seaborn>=0.9.0->qiskit[aer,visualization]) (2.2.2)\n",
            "Requirement already satisfied: pbr>=2.0.0 in /usr/local/lib/python3.11/dist-packages (from stevedore>=3.0.0->qiskit[aer,visualization]) (6.1.1)\n",
            "Requirement already satisfied: mpmath<1.4,>=1.1.0 in /usr/local/lib/python3.11/dist-packages (from sympy>=1.3->qiskit[aer,visualization]) (1.3.0)\n",
            "Requirement already satisfied: pytz>=2020.1 in /usr/local/lib/python3.11/dist-packages (from pandas>=1.2->seaborn>=0.9.0->qiskit[aer,visualization]) (2025.2)\n",
            "Requirement already satisfied: tzdata>=2022.7 in /usr/local/lib/python3.11/dist-packages (from pandas>=1.2->seaborn>=0.9.0->qiskit[aer,visualization]) (2025.2)\n",
            "Requirement already satisfied: setuptools in /usr/local/lib/python3.11/dist-packages (from pbr>=2.0.0->stevedore>=3.0.0->qiskit[aer,visualization]) (75.2.0)\n",
            "Building wheels for collected packages: pylatexenc\n",
            "  Building wheel for pylatexenc (setup.py) ... \u001b[?25l\u001b[?25hdone\n",
            "  Created wheel for pylatexenc: filename=pylatexenc-2.10-py3-none-any.whl size=136817 sha256=2449af83a16957f5282340134539776a2dd3afce0d914c7a1a8c6d7a24acfc16\n",
            "  Stored in directory: /root/.cache/pip/wheels/b1/7a/33/9fdd892f784ed4afda62b685ae3703adf4c91aa0f524c28f03\n",
            "Successfully built pylatexenc\n",
            "Installing collected packages: pylatexenc\n",
            "Successfully installed pylatexenc-2.10\n"
          ]
        }
      ],
      "source": [
        "!pip install qiskit[visualization,aer]"
      ]
    },
    {
      "cell_type": "markdown",
      "metadata": {
        "id": "-V8i_9K5nqsX"
      },
      "source": [
        "# **SuperDense COding**\n",
        "Create the circuit for superdense coding (using 2 qubits and 2 classical bits) and check its validity using Statevector for all the 4 possible cases."
      ]
    },
    {
      "cell_type": "code",
      "execution_count": 5,
      "metadata": {
        "colab": {
          "base_uri": "https://localhost:8080/",
          "height": 37
        },
        "id": "bsB3HGxxnvJu",
        "outputId": "8fa97746-d1a5-460c-e483-ab5e52f22ad4"
      },
      "outputs": [
        {
          "data": {
            "text/latex": [
              "$$- |11\\rangle$$"
            ],
            "text/plain": [
              "<IPython.core.display.Latex object>"
            ]
          },
          "execution_count": 5,
          "metadata": {},
          "output_type": "execute_result"
        }
      ],
      "source": [
        "from qiskit import QuantumRegister\n",
        "from qiskit import QuantumCircuit\n",
        "from qiskit.quantum_info import Statevector\n",
        "\n",
        "# we will create a function which will contain the circuit required to send\n",
        "\n",
        "def send_1(bits):\n",
        "  qc=QuantumCircuit(2)\n",
        "\n",
        "  # creation of the entangled pair\n",
        "  qc.h(0)\n",
        "  qc.cx(0, 1)\n",
        "\n",
        "  #making the four unique cases for encoding\n",
        "\n",
        "  if bits == '00':\n",
        "    pass\n",
        "  elif bits == '01':\n",
        "    qc.x(0)\n",
        "  elif bits == '10':\n",
        "    qc.z(0)\n",
        "  elif bits == '11':\n",
        "    qc.z(0)\n",
        "    qc.x(0)\n",
        "\n",
        "  # decoding with q_1 which we had and the recieved  q_0\n",
        "  qc.cx(0, 1)\n",
        "  qc.h(0)\n",
        "\n",
        "  return qc\n",
        "\n",
        "\n",
        "# checking using statevector\n",
        "\n",
        "\n",
        "\n",
        "qc = send_1(\"11\")\n",
        "sv = Statevector.from_label('00').evolve(qc)\n",
        "sv.draw('latex')\n",
        "\n",
        "# here we expect that whatever bits we pass to the function, the same bits can be recoverd"
      ]
    },
    {
      "cell_type": "markdown",
      "metadata": {
        "id": "1Q4kqoeKuG2o"
      },
      "source": [
        " We can make the above into a more sophisticated code with one function for the sender(encoding) and other for the receiver decoding, use global variables to pass quantum entaglment information"
      ]
    },
    {
      "cell_type": "code",
      "execution_count": 6,
      "metadata": {
        "colab": {
          "base_uri": "https://localhost:8080/",
          "height": 37
        },
        "id": "abpIEktGuLX8",
        "outputId": "251b88e9-70b4-4be5-d546-3e9372373eea"
      },
      "outputs": [
        {
          "data": {
            "text/latex": [
              "$$- |11\\rangle$$"
            ],
            "text/plain": [
              "<IPython.core.display.Latex object>"
            ]
          },
          "execution_count": 6,
          "metadata": {},
          "output_type": "execute_result"
        }
      ],
      "source": [
        "from qiskit import QuantumCircuit\n",
        "from qiskit.quantum_info import Statevector\n",
        "\n",
        "# Global quantum state shared between sender and receiver\n",
        "global_state = None\n",
        "\n",
        "def create_entangled_pair():\n",
        "    qc = QuantumCircuit(2)\n",
        "    qc.h(0)\n",
        "    qc.cx(0, 1)\n",
        "    return Statevector.from_label('00').evolve(qc)\n",
        "\n",
        "def sender(bits):\n",
        "    global global_state\n",
        "\n",
        "    # Initialize if not already done\n",
        "    if global_state is None:\n",
        "        global_state = create_entangled_pair()\n",
        "\n",
        "    qc = QuantumCircuit(2)\n",
        "\n",
        "    if bits == '00':\n",
        "        pass\n",
        "    elif bits == '01':\n",
        "        qc.x(0)\n",
        "    elif bits == '10':\n",
        "        qc.z(0)\n",
        "    elif bits == '11':\n",
        "        qc.z(0)\n",
        "        qc.x(0)\n",
        "\n",
        "    global_state = global_state.evolve(qc)\n",
        "\n",
        "def receiver():\n",
        "    global global_state\n",
        "\n",
        "    qc = QuantumCircuit(2)\n",
        "    qc.cx(0, 1)\n",
        "    qc.h(0)\n",
        "\n",
        "    global_state = global_state.evolve(qc)\n",
        "    return global_state\n",
        "\n",
        "# Initialize the entangled pair\n",
        "global_state = create_entangled_pair()\n",
        "\n",
        "# Sender encodes their bits\n",
        "sender(\"11\")\n",
        "\n",
        "# Receiver decodes the state\n",
        "final_state = receiver()\n",
        "\n",
        "# Display the final state\n",
        "final_state.draw('latex')"
      ]
    },
    {
      "cell_type": "markdown",
      "metadata": {
        "id": "LxGpLf9Nv181"
      },
      "source": [
        "Now let's dig deeper and try to send the message \"hello\", we will use the function send_1"
      ]
    },
    {
      "cell_type": "code",
      "execution_count": 7,
      "metadata": {
        "colab": {
          "base_uri": "https://localhost:8080/"
        },
        "id": "aoblPmSsv05J",
        "outputId": "87cdcad7-bee8-4c86-d162-3195f1793365"
      },
      "outputs": [
        {
          "name": "stdout",
          "output_type": "stream",
          "text": [
            "sent message:  hello\n",
            "recieved message: hello\n"
          ]
        }
      ],
      "source": [
        "from qiskit import QuantumCircuit\n",
        "from qiskit.quantum_info import Statevector\n",
        "import numpy as np\n",
        "\n",
        "def word_to_binary(word):\n",
        "    binary = ''.join(format(ord(c), '08b') for c in word)\n",
        "    return binary\n",
        "\n",
        "\n",
        "def binary_to_word(binary_str):\n",
        "    # Pad with zeros if not divisible by 8\n",
        "    padded = binary_str.ljust((len(binary_str) + 7) // 8 * 8, '0')\n",
        "    return ''.join(chr(int(padded[i:i+8], 2)) for i in range(0, len(padded), 8))\n",
        "\n",
        "\n",
        "def send_1(bits):\n",
        "    qc = QuantumCircuit(2)\n",
        "\n",
        "\n",
        "    qc.h(0)\n",
        "    qc.cx(0, 1)\n",
        "    if bits == '00':\n",
        "        pass\n",
        "    elif bits == '01':\n",
        "        qc.x(0)\n",
        "    elif bits == '10':\n",
        "        qc.z(0)\n",
        "    elif bits == '11':\n",
        "        qc.z(0)\n",
        "        qc.x(0)\n",
        "    qc.cx(0, 1)\n",
        "    qc.h(0)\n",
        "\n",
        "    return qc\n",
        "\n",
        "\n",
        "# decoding fuction using sv.data\n",
        "def decode_statevector(sv):\n",
        "    vec = sv.data\n",
        "    for i, amp in enumerate(vec):\n",
        "        if abs(amp) > 1e-6:\n",
        "            return format(i, '02b')[::-1]  # reverse to match q_0 q_1, as was told in the tutorial\n",
        "\n",
        "\n",
        "message = \"hello\"\n",
        "bits_set = word_to_binary(message)\n",
        "bits = [bits_set[i:i+2] for i in range(0, len(bits_set), 2)]\n",
        "\n",
        "received_bits = []\n",
        "\n",
        "for b in bits:\n",
        "    qc = send_1(b)\n",
        "    sv = Statevector.from_label('00').evolve(qc)\n",
        "    decoded = decode_statevector(sv)\n",
        "    received_bits.append(decoded)\n",
        "\n",
        "final_binary = ''.join(received_bits)\n",
        "recovered_message = binary_to_word(final_binary)\n",
        "\n",
        "print(\"sent message: \", message)\n",
        "print(\"recieved message:\", recovered_message)\n"
      ]
    },
    {
      "cell_type": "markdown",
      "metadata": {
        "id": "v7dLVupI0qjq"
      },
      "source": [
        "# **AerSimulator**"
      ]
    },
    {
      "cell_type": "code",
      "execution_count": 8,
      "metadata": {
        "colab": {
          "base_uri": "https://localhost:8080/"
        },
        "id": "pcREd9UT0zul",
        "outputId": "119b38d5-6fa0-42b3-98cc-429e40684597"
      },
      "outputs": [
        {
          "name": "stdout",
          "output_type": "stream",
          "text": [
            "Collecting qiskit-aer\n",
            "  Downloading qiskit_aer-0.17.1-cp311-cp311-manylinux_2_17_x86_64.manylinux2014_x86_64.whl.metadata (8.3 kB)\n",
            "Requirement already satisfied: pylatexenc in /usr/local/lib/python3.11/dist-packages (2.10)\n",
            "Requirement already satisfied: qiskit>=1.1.0 in /usr/local/lib/python3.11/dist-packages (from qiskit-aer) (2.0.3)\n",
            "Requirement already satisfied: numpy>=1.16.3 in /usr/local/lib/python3.11/dist-packages (from qiskit-aer) (2.0.2)\n",
            "Requirement already satisfied: scipy>=1.0 in /usr/local/lib/python3.11/dist-packages (from qiskit-aer) (1.15.3)\n",
            "Requirement already satisfied: psutil>=5 in /usr/local/lib/python3.11/dist-packages (from qiskit-aer) (5.9.5)\n",
            "Requirement already satisfied: python-dateutil>=2.8.0 in /usr/local/lib/python3.11/dist-packages (from qiskit-aer) (2.9.0.post0)\n",
            "Requirement already satisfied: six>=1.5 in /usr/local/lib/python3.11/dist-packages (from python-dateutil>=2.8.0->qiskit-aer) (1.17.0)\n",
            "Requirement already satisfied: rustworkx>=0.15.0 in /usr/local/lib/python3.11/dist-packages (from qiskit>=1.1.0->qiskit-aer) (0.16.0)\n",
            "Requirement already satisfied: sympy>=1.3 in /usr/local/lib/python3.11/dist-packages (from qiskit>=1.1.0->qiskit-aer) (1.13.1)\n",
            "Requirement already satisfied: dill>=0.3 in /usr/local/lib/python3.11/dist-packages (from qiskit>=1.1.0->qiskit-aer) (0.3.7)\n",
            "Requirement already satisfied: stevedore>=3.0.0 in /usr/local/lib/python3.11/dist-packages (from qiskit>=1.1.0->qiskit-aer) (5.4.1)\n",
            "Requirement already satisfied: typing-extensions in /usr/local/lib/python3.11/dist-packages (from qiskit>=1.1.0->qiskit-aer) (4.14.0)\n",
            "Requirement already satisfied: symengine<0.14,>=0.11 in /usr/local/lib/python3.11/dist-packages (from qiskit>=1.1.0->qiskit-aer) (0.13.0)\n",
            "Requirement already satisfied: pbr>=2.0.0 in /usr/local/lib/python3.11/dist-packages (from stevedore>=3.0.0->qiskit>=1.1.0->qiskit-aer) (6.1.1)\n",
            "Requirement already satisfied: mpmath<1.4,>=1.1.0 in /usr/local/lib/python3.11/dist-packages (from sympy>=1.3->qiskit>=1.1.0->qiskit-aer) (1.3.0)\n",
            "Requirement already satisfied: setuptools in /usr/local/lib/python3.11/dist-packages (from pbr>=2.0.0->stevedore>=3.0.0->qiskit>=1.1.0->qiskit-aer) (75.2.0)\n",
            "Downloading qiskit_aer-0.17.1-cp311-cp311-manylinux_2_17_x86_64.manylinux2014_x86_64.whl (12.4 MB)\n",
            "\u001b[2K   \u001b[90m━━━━━━━━━━━━━━━━━━━━━━━━━━━━━━━━━━━━━━━━\u001b[0m \u001b[32m12.4/12.4 MB\u001b[0m \u001b[31m46.4 MB/s\u001b[0m eta \u001b[36m0:00:00\u001b[0m\n",
            "\u001b[?25hInstalling collected packages: qiskit-aer\n",
            "Successfully installed qiskit-aer-0.17.1\n"
          ]
        }
      ],
      "source": [
        "!pip install qiskit-aer pylatexenc"
      ]
    },
    {
      "cell_type": "code",
      "execution_count": 9,
      "metadata": {
        "id": "S7PnlxMm0qLW"
      },
      "outputs": [],
      "source": [
        "from qiskit import QuantumCircuit\n",
        "from qiskit_aer import AerSimulator\n",
        "from qiskit.visualization import plot_histogram\n",
        "import matplotlib.pyplot as plt\n",
        "from qiskit import transpile"
      ]
    },
    {
      "cell_type": "code",
      "execution_count": 10,
      "metadata": {
        "id": "T0yvHvEz1ruS"
      },
      "outputs": [],
      "source": [
        "\n",
        "# we will create a new function which will be a measurement analog of send_1\n",
        "def send_1_measured(bits):\n",
        "    qc = QuantumCircuit(2, 2)  # 2 qubits, 2 classical bits\n",
        "\n",
        "    # Create entangled pair\n",
        "    qc.h(0)\n",
        "    qc.cx(0, 1)\n",
        "\n",
        "\n",
        "    if bits == '00':\n",
        "        pass\n",
        "    elif bits == '01':\n",
        "        qc.x(0)\n",
        "    elif bits == '10':\n",
        "        qc.z(0)\n",
        "    elif bits == '11':\n",
        "        qc.z(0)\n",
        "        qc.x(0)\n",
        "\n",
        "\n",
        "    qc.cx(0, 1)\n",
        "    qc.h(0)\n",
        "\n",
        "    # for simulating measurement function\n",
        "\n",
        "    qc.measure(0, 0)\n",
        "    qc.measure(1, 1)\n",
        "\n",
        "    return qc\n"
      ]
    },
    {
      "cell_type": "code",
      "execution_count": 11,
      "metadata": {
        "colab": {
          "base_uri": "https://localhost:8080/"
        },
        "id": "BYjAlgae2NCd",
        "outputId": "0ab6fcbe-cc2d-4edf-b899-b595023963be"
      },
      "outputs": [
        {
          "name": "stdout",
          "output_type": "stream",
          "text": [
            "{'00': {'00': 1024}, '01': {'10': 1024}, '10': {'01': 1024}, '11': {'11': 1024}}\n"
          ]
        }
      ],
      "source": [
        "backend = AerSimulator()\n",
        "counts_no_noise = {}\n",
        "\n",
        "for bits in ['00', '01', '10', '11']:\n",
        "    qc = send_1_measured(bits)\n",
        "    qc_compiled = transpile(qc, backend)\n",
        "    job = backend.run(qc_compiled, shots=1024)\n",
        "    result = job.result()\n",
        "    counts_no_noise[bits] = result.get_counts()\n",
        "\n",
        "print(counts_no_noise)"
      ]
    },
    {
      "cell_type": "code",
      "execution_count": 12,
      "metadata": {
        "colab": {
          "base_uri": "https://localhost:8080/",
          "height": 607
        },
        "id": "dx3r07Cq4DcD",
        "outputId": "7bfc3252-5146-49a8-8500-80c3debfa163"
      },
      "outputs": [
        {
          "data": {
            "image/png": "[encoded data removed]",
            "text/plain": [
              "<Figure size 1000x600 with 1 Axes>"
            ]
          },
          "metadata": {},
          "output_type": "display_data"
        }
      ],
      "source": [
        "import numpy as np\n",
        "\n",
        "\n",
        "inputs = list(counts_no_noise.keys())\n",
        "outputs = [list(d.keys())[0] for d in counts_no_noise.values()]\n",
        "counts = [list(d.values())[0] for d in counts_no_noise.values()]\n",
        "\n",
        "x = np.arange(len(inputs))\n",
        "width = 0.35\n",
        "\n",
        "fig, ax = plt.subplots(figsize=(10, 6))\n",
        "rects = ax.bar(x - width/2, [1024]*4, width, label='Expected')\n",
        "rects = ax.bar(x + width/2, counts, width, label='Actual')\n",
        "\n",
        "ax.set_ylabel('Counts')\n",
        "ax.set_title('Superdense Coding Verification')\n",
        "ax.set_xticks(x)\n",
        "ax.set_xticklabels([f\"In:{i}→Out:{o}\" for i,o in zip(inputs, outputs)])\n",
        "ax.legend()\n",
        "\n",
        "plt.xticks(rotation=45)\n",
        "plt.tight_layout()\n",
        "plt.show()"
      ]
    },
    {
      "cell_type": "markdown",
      "metadata": {
        "id": "Eu_8d3R04KTJ"
      },
      "source": [
        "# **Noisy Simulator**"
      ]
    },
    {
      "cell_type": "code",
      "execution_count": 13,
      "metadata": {
        "id": "llNuQ6324mZa"
      },
      "outputs": [],
      "source": [
        "from qiskit_aer.noise import NoiseModel, depolarizing_error"
      ]
    },
    {
      "cell_type": "markdown",
      "metadata": {
        "id": "XlTpdGfn8Zgv"
      },
      "source": [
        "using noise_model suggest by \"Chat GPT\" because my ibm accout is showing\n",
        "Your IBM Quantum account has been disabled. Learn more: https://ibm.biz/BdfaME."
      ]
    },
    {
      "cell_type": "code",
      "execution_count": 21,
      "metadata": {
        "id": "pulLtbP5qzWb"
      },
      "outputs": [],
      "source": [
        "import pickle\n",
        "with open(\"ibm_brisbane_noise_model.pkl\", \"rb\") as f:\n",
        "    noise_model, basis_gates = pickle.load(f)"
      ]
    },
    {
      "cell_type": "code",
      "execution_count": 22,
      "metadata": {
        "colab": {
          "base_uri": "https://localhost:8080/"
        },
        "id": "YJxDfkGd4JZ3",
        "outputId": "dbf875a2-8aef-4d88-d790-6b721bb1a4d6"
      },
      "outputs": [
        {
          "name": "stdout",
          "output_type": "stream",
          "text": [
            "{'00': {'01': 28, '10': 12, '00': 984}, '01': {'11': 31, '00': 19, '10': 974}, '10': {'11': 10, '00': 27, '01': 987}, '11': {'01': 19, '10': 27, '11': 978}}\n"
          ]
        }
      ],
      "source": [
        "sim_noise = AerSimulator(\n",
        "    noise_model=noise_model,\n",
        "    basis_gates= basis_gates\n",
        ")\n",
        "\n",
        "counts_with_noise = {}\n",
        "\n",
        "for bits in ['00', '01', '10', '11']:\n",
        "    qc = send_1_measured(bits)\n",
        "    tqc = transpile(qc, sim_noise)\n",
        "    job = sim_noise.run(tqc, shots=1024)\n",
        "    result = job.result()\n",
        "    counts_with_noise[bits] = result.get_counts()\n",
        "\n",
        "print(counts_with_noise)\n",
        "\n"
      ]
    },
    {
      "cell_type": "code",
      "execution_count": 30,
      "metadata": {
        "colab": {
          "base_uri": "https://localhost:8080/",
          "height": 807
        },
        "id": "d7b2p-Ggspd8",
        "outputId": "a0a8b279-2c39-4438-d465-28085169c7cc"
      },
      "outputs": [
        {
          "data": {
            "image/png": "[encoded data removed]",
            "text/plain": [
              "<Figure size 1200x800 with 4 Axes>"
            ]
          },
          "metadata": {},
          "output_type": "display_data"
        }
      ],
      "source": [
        "import matplotlib.pyplot as plt\n",
        "\n",
        "fig, axs = plt.subplots(2, 2, figsize=(12, 8))\n",
        "axs = axs.flatten()\n",
        "\n",
        "for i, bits in enumerate(['00', '01', '10', '11']):\n",
        "    counts = dict(counts_with_noise[bits])\n",
        "    axs[i].bar(counts.keys(), counts.values(), color='skyblue')\n",
        "    axs[i].set_title(f'Input Bits: {bits}')\n",
        "    axs[i].set_xlabel('Measured Output')\n",
        "    axs[i].set_ylabel('Counts')\n",
        "    axs[i].set_ylim(0, 1024)\n",
        "\n",
        "plt.tight_layout()\n",
        "plt.show()"
      ]
    },
    {
      "cell_type": "markdown",
      "metadata": {
        "id": "ypjIEC_asx8Y"
      },
      "source": [
        "Now that we have the noisy simulator working, we will send a message and for each two bits, we are doing 1024 trails, since we take max, we are bypassing the possibility of transmitting a wrong bit."
      ]
    },
    {
      "cell_type": "code",
      "execution_count": 56,
      "metadata": {
        "colab": {
          "base_uri": "https://localhost:8080/"
        },
        "id": "8U01QowGzdvL",
        "outputId": "d2de90fd-e70f-4219-82ad-53604e65af79"
      },
      "outputs": [
        {
          "name": "stdout",
          "output_type": "stream",
          "text": [
            "Recovered message: Aakash\n",
            "Length of final binary: 48\n",
            "Original binary length: 48\n"
          ]
        }
      ],
      "source": [
        "\n",
        "message = \"Aakash\"\n",
        "\n",
        "bits_2 = word_to_binary(message)\n",
        "bits_1 = [bits_2[i:i+2] for i in range(0, len(bits_2), 2)]\n",
        "\n",
        "VALID_BITSTRINGS = {'00', '01', '10', '11'}\n",
        "received_bits_1 = []\n",
        "\n",
        "for bits in bits_1:\n",
        "    qc = send_1_measured(bits)\n",
        "    tqc = transpile(qc, sim_noise)\n",
        "    job = sim_noise.run(tqc, shots=1024)\n",
        "    result = job.result()\n",
        "\n",
        "    counts = result.get_counts()\n",
        "    bitstring = max(counts.items(), key=lambda x: x[1])[0]\n",
        "    received_bits_1.append(bitstring[::-1])\n",
        "\n",
        "\n",
        "final_binary_1 = ''.join(received_bits_1)\n",
        "recovered_message_1 = binary_to_word(final_binary_1)\n",
        "\n",
        "print(\"Recovered message:\", recovered_message_1)\n",
        "print(\"Length of final binary:\", len(final_binary_1))\n",
        "print(\"Original binary length:\", len(bits_2))\n"
      ]
    }
  ],
  "metadata": {
    "colab": {
      "provenance": []
    },
    "kernelspec": {
      "display_name": "Python 3",
      "name": "python3"
    },
    "language_info": {
      "name": "python"
    }
  },
  "nbformat": 4,
  "nbformat_minor": 0
}
